{
 "metadata": {
  "name": "",
  "signature": "sha256:fac09ea5def01e31afa36184c2690c42faa09f413438d63c34742a92d3d48ca6"
 },
 "nbformat": 3,
 "nbformat_minor": 0,
 "worksheets": []
}